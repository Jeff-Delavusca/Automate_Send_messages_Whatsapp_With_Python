{
 "cells": [
  {
   "cell_type": "code",
   "execution_count": 2,
   "id": "fb0ee4b2",
   "metadata": {
    "scrolled": true
   },
   "outputs": [
    {
     "data": {
      "text/html": [
       "<div>\n",
       "<style scoped>\n",
       "    .dataframe tbody tr th:only-of-type {\n",
       "        vertical-align: middle;\n",
       "    }\n",
       "\n",
       "    .dataframe tbody tr th {\n",
       "        vertical-align: top;\n",
       "    }\n",
       "\n",
       "    .dataframe thead th {\n",
       "        text-align: right;\n",
       "    }\n",
       "</style>\n",
       "<table border=\"1\" class=\"dataframe\">\n",
       "  <thead>\n",
       "    <tr style=\"text-align: right;\">\n",
       "      <th></th>\n",
       "      <th>nome</th>\n",
       "      <th>telefone</th>\n",
       "      <th>msg</th>\n",
       "    </tr>\n",
       "  </thead>\n",
       "  <tbody>\n",
       "  </tbody>\n",
       "</table>\n",
       "</div>"
      ],
      "text/plain": [
       "Empty DataFrame\n",
       "Columns: [nome, telefone, msg]\n",
       "Index: []"
      ]
     },
     "metadata": {},
     "output_type": "display_data"
    }
   ],
   "source": [
    "### corrigido\n",
    "import pandas as pd\n",
    "from selenium import webdriver\n",
    "from selenium.webdriver.common.keys import Keys\n",
    "import time\n",
    "import urllib\n",
    "from selenium.webdriver.common.by import By\n",
    "from selenium.webdriver.support.ui import WebDriverWait\n",
    "from selenium.webdriver.support import expected_conditions as EC\n",
    "\n",
    "data = pd.read_excel(\"dados.xlsx\")\n",
    "display(data)\n",
    "\n",
    "navegador = webdriver.Chrome()\n",
    "navegador.get(\"https://web.whatsapp.com/\")\n",
    "\n",
    "while len(navegador.find_elements(\"css selector\", \"#side\")) < 1:\n",
    "    time.sleep(1)\n",
    "\n",
    "# já estamos com o login feito no WhatsApp Web\n",
    "for i, mensagem in enumerate(data['msg']):\n",
    "    pessoa = data.loc[i, \"nome\"]\n",
    "    numero = data.loc[i, \"telefone\"]\n",
    "    texto = urllib.parse.quote(mensagem)\n",
    "    link = f\"https://web.whatsapp.com/send?phone={numero}&text={texto}\"\n",
    "    navegador.get(link)\n",
    "    \n",
    "    # Aguarda até que o campo de entrada de texto esteja presente\n",
    "    wait = WebDriverWait(navegador, 30)\n",
    "    input_box = wait.until(EC.presence_of_element_located((By.XPATH, '//*[@id=\"main\"]/footer/div[1]/div/span[2]/div/div[2]/div[1]/div/div/p/span')))\n",
    "    \n",
    "    # Digita a mensagem e envia\n",
    "    input_box.send_keys(Keys.ENTER)\n",
    "\n",
    "    time.sleep(10)\n",
    "\n",
    "# Fecha o navegador ao final\n",
    "navegador.quit()"
   ]
  }
 ],
 "metadata": {
  "kernelspec": {
   "display_name": "Python 3 (ipykernel)",
   "language": "python",
   "name": "python3"
  },
  "language_info": {
   "codemirror_mode": {
    "name": "ipython",
    "version": 3
   },
   "file_extension": ".py",
   "mimetype": "text/x-python",
   "name": "python",
   "nbconvert_exporter": "python",
   "pygments_lexer": "ipython3",
   "version": "3.11.3"
  }
 },
 "nbformat": 4,
 "nbformat_minor": 5
}
